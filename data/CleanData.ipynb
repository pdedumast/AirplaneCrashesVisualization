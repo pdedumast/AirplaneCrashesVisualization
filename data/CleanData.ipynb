{
 "cells": [
  {
   "cell_type": "code",
   "execution_count": 140,
   "metadata": {},
   "outputs": [],
   "source": [
    "import requests\n",
    "import pandas as pd\n",
    "import numpy as np\n",
    "import json"
   ]
  },
  {
   "cell_type": "code",
   "execution_count": 135,
   "metadata": {},
   "outputs": [],
   "source": [
    "df = pd.read_csv(\"Airplane_Crashes_and_Fatalities_Since_1908.csv\")"
   ]
  },
  {
   "cell_type": "markdown",
   "metadata": {},
   "source": [
    "### Get the google api key\n",
    "If you don't have one, create one on https://developers.google.com/maps/documentation/geocoding/get-api-key?hl=fr\n",
    "and store it in a file called credentials.json"
   ]
  },
  {
   "cell_type": "code",
   "execution_count": 64,
   "metadata": {},
   "outputs": [],
   "source": [
    "json_data=open('credentials.json').read()\n",
    "data = json.loads(json_data)\n",
    "API_KEY = data[\"google_api_key\"]"
   ]
  },
  {
   "cell_type": "code",
   "execution_count": 146,
   "metadata": {},
   "outputs": [],
   "source": [
    "url = \"https://maps.googleapis.com/maps/api/geocode/json?address=\"\n",
    "#address = \"12 rue deu repos Lyon\"\n",
    "key = \"&key=\" +  API_KEY\n",
    "\n",
    "def getLocation(address):\n",
    "    response = requests.get(url+str(address)+key)\n",
    "    if response.json()['status']==\"OK\":\n",
    "        lat = response.json()['results'][0]['geometry']['location']['lat']\n",
    "        lng = response.json()['results'][0]['geometry']['location']['lng']\n",
    "    else:\n",
    "        lat = np.nan\n",
    "        lng = np.nan\n",
    "    return pd.Series({'lat':lat,'lng':lng})"
   ]
  },
  {
   "cell_type": "code",
   "execution_count": 147,
   "metadata": {
    "scrolled": true
   },
   "outputs": [],
   "source": [
    "df = df.merge(df.Location.apply(lambda address: getLocation(address)), left_index=True, right_index=True)"
   ]
  },
  {
   "cell_type": "code",
   "execution_count": 149,
   "metadata": {},
   "outputs": [],
   "source": [
    "df.to_csv('aircrashes1.csv')"
   ]
  }
 ],
 "metadata": {
  "kernelspec": {
   "display_name": "Python 3",
   "language": "python",
   "name": "python3"
  },
  "language_info": {
   "codemirror_mode": {
    "name": "ipython",
    "version": 3
   },
   "file_extension": ".py",
   "mimetype": "text/x-python",
   "name": "python",
   "nbconvert_exporter": "python",
   "pygments_lexer": "ipython3",
   "version": "3.6.1"
  }
 },
 "nbformat": 4,
 "nbformat_minor": 2
}
